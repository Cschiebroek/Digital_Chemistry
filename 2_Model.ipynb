{
 "cells": [
  {
   "cell_type": "code",
   "execution_count": 1,
   "metadata": {},
   "outputs": [],
   "source": [
    "#import: standard libraries, plus the classes\n",
    "from modules.utils_model import SingleTaskModelTrainer, MultiTaskModelTrainer\n",
    "from ray import tune\n",
    "import torch\n",
    "import pandas as pd\n",
    "from modules.utils_data import get_graphs #will be changed later by Riccardo\n",
    "from sklearn.model_selection import train_test_split"
   ]
  },
  {
   "cell_type": "code",
   "execution_count": 2,
   "metadata": {},
   "outputs": [],
   "source": [
    "#just an example, we can think about different params/ranges\n",
    "hp_search_config = {\n",
    "        \"lr\": tune.loguniform(1e-5, 1e-2),\n",
    "        \"batch_size\": tune.choice([8, 16]),\n",
    "        \"hidden_channels\": tune.choice([32, 64, 128]),\n",
    "        \"num_layers\": tune.choice([2, 3, 4]),\n",
    "        \"num_timesteps\": tune.choice([1, 2, 3]),\n",
    "        \"gamma\": tune.loguniform(0.9, 0.99),\n",
    "        \"Scheduler\": tune.choice([\"ReduceLROnPlateau\", \"ExponentialLR\"]),\n",
    "    }"
   ]
  },
  {
   "cell_type": "code",
   "execution_count": 3,
   "metadata": {},
   "outputs": [
    {
     "name": "stdout",
     "output_type": "stream",
     "text": [
      "Loading previously created graphs\n"
     ]
    }
   ],
   "source": [
    "#start with getting the data\n",
    "train = pd.read_csv(\"train.csv\")\n",
    "train_graphs_DASH_charge_scaled = get_graphs(train,dash_charges=True,scaled =True,save_graphs = True)"
   ]
  },
  {
   "cell_type": "code",
   "execution_count": 4,
   "metadata": {},
   "outputs": [],
   "source": [
    "#we need to split double: we use the first validation set to tune our hyperparameters, and then a second one to be used for early stopping of the final model. We could have smaller sets I think\n",
    "train_data, val_data = train_test_split(train_graphs_DASH_charge_scaled, test_size=0.2, random_state=2000)\n",
    "val1_data, val2_data = train_test_split(val_data, test_size=0.5, random_state=2000)"
   ]
  },
  {
   "cell_type": "code",
   "execution_count": 5,
   "metadata": {},
   "outputs": [],
   "source": [
    "#because for some reason I run into memory issues, did not have this before, to fix. now it will give crap results for the full thing because much less data\n",
    "from random import sample \n",
    "train_data_hp_opt = sample(train_data, 1000)\n",
    "val_data_hp_opt = sample(val1_data, 100)"
   ]
  },
  {
   "cell_type": "code",
   "execution_count": 6,
   "metadata": {},
   "outputs": [],
   "source": [
    "example_mtl_model = MultiTaskModelTrainer(sandbox=True,verbose=True,name='example_MTL',seed = 18012000,train_data = train_data_hp_opt,val_data=val_data_hp_opt, n_input_feautures=23)"
   ]
  },
  {
   "cell_type": "code",
   "execution_count": 7,
   "metadata": {},
   "outputs": [
    {
     "name": "stderr",
     "output_type": "stream",
     "text": [
      "2024-03-26 19:04:35,527\tINFO worker.py:1715 -- Started a local Ray instance. View the dashboard at \u001b[1m\u001b[32mhttp://127.0.0.1:8265 \u001b[39m\u001b[22m\n",
      "2024-03-26 19:04:37,783\tINFO tune.py:583 -- [output] This uses the legacy output and progress reporter, as Jupyter notebooks are not supported by the new engine, yet. For more information, please see https://github.com/ray-project/ray/issues/36949\n"
     ]
    },
    {
     "data": {
      "text/html": [
       "<div class=\"tuneStatus\">\n",
       "  <div style=\"display: flex;flex-direction: row\">\n",
       "    <div style=\"display: flex;flex-direction: column;\">\n",
       "      <h3>Tune Status</h3>\n",
       "      <table>\n",
       "<tbody>\n",
       "<tr><td>Current time:</td><td>2024-03-26 19:04:45</td></tr>\n",
       "<tr><td>Running for: </td><td>00:00:08.02        </td></tr>\n",
       "<tr><td>Memory:      </td><td>10.1/62.5 GiB      </td></tr>\n",
       "</tbody>\n",
       "</table>\n",
       "    </div>\n",
       "    <div class=\"vDivider\"></div>\n",
       "    <div class=\"systemInfo\">\n",
       "      <h3>System Info</h3>\n",
       "      Using AsyncHyperBand: num_stopped=1<br>Bracket: Iter 1.000: 0.31178470060446595<br>Logical resource usage: 16.0/16 CPUs, 1.0/1 GPUs (0.0/1.0 accelerator_type:RTX)\n",
       "    </div>\n",
       "    \n",
       "  </div>\n",
       "  <div class=\"hDivider\"></div>\n",
       "  <div class=\"trialStatus\">\n",
       "    <h3>Trial Status</h3>\n",
       "    <table>\n",
       "<thead>\n",
       "<tr><th>Trial name                      </th><th>status    </th><th>loc                  </th><th>Scheduler    </th><th style=\"text-align: right;\">  batch_size</th><th style=\"text-align: right;\">   gamma</th><th style=\"text-align: right;\">  hidden_channels</th><th style=\"text-align: right;\">         lr</th><th style=\"text-align: right;\">  num_layers</th><th style=\"text-align: right;\">  num_timesteps</th><th style=\"text-align: right;\">  iter</th><th style=\"text-align: right;\">  total time (s)</th><th style=\"text-align: right;\">  kendall_tau</th></tr>\n",
       "</thead>\n",
       "<tbody>\n",
       "<tr><td>train_model_with_ray_4f4d9_00000</td><td>TERMINATED</td><td>129.132.218.175:13978</td><td>ExponentialLR</td><td style=\"text-align: right;\">           8</td><td style=\"text-align: right;\">0.958413</td><td style=\"text-align: right;\">               32</td><td style=\"text-align: right;\">0.000606811</td><td style=\"text-align: right;\">           2</td><td style=\"text-align: right;\">              3</td><td style=\"text-align: right;\">     1</td><td style=\"text-align: right;\">         5.05224</td><td style=\"text-align: right;\">     0.311785</td></tr>\n",
       "</tbody>\n",
       "</table>\n",
       "  </div>\n",
       "</div>\n",
       "<style>\n",
       ".tuneStatus {\n",
       "  color: var(--jp-ui-font-color1);\n",
       "}\n",
       ".tuneStatus .systemInfo {\n",
       "  display: flex;\n",
       "  flex-direction: column;\n",
       "}\n",
       ".tuneStatus td {\n",
       "  white-space: nowrap;\n",
       "}\n",
       ".tuneStatus .trialStatus {\n",
       "  display: flex;\n",
       "  flex-direction: column;\n",
       "}\n",
       ".tuneStatus h3 {\n",
       "  font-weight: bold;\n",
       "}\n",
       ".tuneStatus .hDivider {\n",
       "  border-bottom-width: var(--jp-border-width);\n",
       "  border-bottom-color: var(--jp-border-color0);\n",
       "  border-bottom-style: solid;\n",
       "}\n",
       ".tuneStatus .vDivider {\n",
       "  border-left-width: var(--jp-border-width);\n",
       "  border-left-color: var(--jp-border-color0);\n",
       "  border-left-style: solid;\n",
       "  margin: 0.5em 1em 0.5em 1em;\n",
       "}\n",
       "</style>\n"
      ],
      "text/plain": [
       "<IPython.core.display.HTML object>"
      ]
     },
     "metadata": {},
     "output_type": "display_data"
    },
    {
     "data": {
      "text/html": [
       "<div class=\"trialProgress\">\n",
       "  <h3>Trial Progress</h3>\n",
       "  <table>\n",
       "<thead>\n",
       "<tr><th>Trial name                      </th><th style=\"text-align: right;\">  kendall_tau</th><th>should_checkpoint  </th></tr>\n",
       "</thead>\n",
       "<tbody>\n",
       "<tr><td>train_model_with_ray_4f4d9_00000</td><td style=\"text-align: right;\">     0.311785</td><td>True               </td></tr>\n",
       "</tbody>\n",
       "</table>\n",
       "</div>\n",
       "<style>\n",
       ".trialProgress {\n",
       "  display: flex;\n",
       "  flex-direction: column;\n",
       "  color: var(--jp-ui-font-color1);\n",
       "}\n",
       ".trialProgress h3 {\n",
       "  font-weight: bold;\n",
       "}\n",
       ".trialProgress td {\n",
       "  white-space: nowrap;\n",
       "}\n",
       "</style>\n"
      ],
      "text/plain": [
       "<IPython.core.display.HTML object>"
      ]
     },
     "metadata": {},
     "output_type": "display_data"
    },
    {
     "name": "stderr",
     "output_type": "stream",
     "text": [
      "\u001b[36m(func pid=13978)\u001b[0m Checkpoint successfully created at: Checkpoint(filesystem=local, path=/home/eruijsena/ray_results/train_model_with_ray_2024-03-26_19-04-37/train_model_with_ray_4f4d9_00000_0_Scheduler=ExponentialLR,batch_size=8,gamma=0.9584,hidden_channels=32,lr=0.0006,num_layers=2,num_2024-03-26_19-04-37/checkpoint_000000)\n",
      "2024-03-26 19:04:45,834\tINFO tune.py:1042 -- Total run time: 8.05 seconds (8.01 seconds for the tuning loop).\n"
     ]
    },
    {
     "name": "stdout",
     "output_type": "stream",
     "text": [
      "Best trial config: {'lr': 0.000606810841366676, 'batch_size': 8, 'hidden_channels': 32, 'num_layers': 2, 'num_timesteps': 3, 'gamma': 0.9584126887372598, 'Scheduler': 'ExponentialLR'}\n",
      "Best trial final kendall_tau: 0.31178470060446595\n"
     ]
    }
   ],
   "source": [
    "example_mtl_model.tune_hyperparameters(config=hp_search_config,num_samples=1,max_num_epochs=1,gpus_per_trial=1,cpus_per_trial=16)"
   ]
  },
  {
   "cell_type": "code",
   "execution_count": 9,
   "metadata": {},
   "outputs": [
    {
     "name": "stdout",
     "output_type": "stream",
     "text": [
      "Epoch 1: Train Loss: 0.3887, Val Loss: 0.3948\n",
      "Epoch 2: Train Loss: 0.3836, Val Loss: 0.3940\n",
      "Epoch 3: Train Loss: 0.3798, Val Loss: 0.3908\n",
      "Epoch 4: Train Loss: 0.3773, Val Loss: 0.3843\n",
      "Epoch 5: Train Loss: 0.3746, Val Loss: 0.3797\n"
     ]
    },
    {
     "data": {
      "text/plain": [
       "([0.3886611156588732,\n",
       "  0.3835504604358824,\n",
       "  0.37977016480156744,\n",
       "  0.37730875589800544,\n",
       "  0.37464684307827734],\n",
       " [0.3948308053316108,\n",
       "  0.3940248149450422,\n",
       "  0.3908491695840577,\n",
       "  0.384289342003958,\n",
       "  0.3797187944511138])"
      ]
     },
     "execution_count": 9,
     "metadata": {},
     "output_type": "execute_result"
    }
   ],
   "source": [
    "#change the train and val data back first\n",
    "example_mtl_model.train_data = train_data\n",
    "example_mtl_model.val_data = val1_data\n",
    "\n",
    "example_mtl_model.train_and_validate(num_epochs=50, save_models=True, es_patience=10, save_losses=True)"
   ]
  },
  {
   "cell_type": "code",
   "execution_count": 10,
   "metadata": {},
   "outputs": [],
   "source": [
    "torch.save(example_mtl_model.model,'model_full_test.pt')"
   ]
  }
 ],
 "metadata": {
  "kernelspec": {
   "display_name": "mtl_dc",
   "language": "python",
   "name": "python3"
  },
  "language_info": {
   "codemirror_mode": {
    "name": "ipython",
    "version": 3
   },
   "file_extension": ".py",
   "mimetype": "text/x-python",
   "name": "python",
   "nbconvert_exporter": "python",
   "pygments_lexer": "ipython3",
   "version": "3.11.8"
  }
 },
 "nbformat": 4,
 "nbformat_minor": 2
}
